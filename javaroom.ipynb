{
 "cells": [
  {
   "cell_type": "markdown",
   "metadata": {
    "collapsed": false
   },
   "source": [
    "# 常规赛：中文新闻文本标题分类Baseline(PaddleNLP)"
   ]
  },
  {
   "cell_type": "markdown",
   "metadata": {
    "collapsed": false
   },
   "source": [
    "# 一.方案介绍\n",
    "\n",
    "* github地址： [https://github.com/livingbody/Chinese_New_Title_Classification](https://github.com/livingbody/Chinese_New_Title_Classification)\n",
    "* aistudio地址：[https://aistudio.baidu.com/aistudio/projectdetail/2364933?contributionType=1](https://aistudio.baidu.com/aistudio/projectdetail/2364933?contributionType=1)\n",
    "\n",
    "## 1.1 赛题简介：\n",
    "\n",
    "文本分类是借助计算机对文本集(或其他实体或物件)按照一定的分类体系或标准进行自动分类标记。本次比赛为新闻标题文本分类 ，选手需要根据提供的新闻标题文本和类别标签训练一个新闻分类模型，然后对测试集的新闻标题文本进行分类，评价指标上使用Accuracy = 分类正确数量 / 需要分类总数量。同时本次参赛选手需使用飞桨框架和飞桨文本领域核心开发库PaddleNLP，PaddleNLP具备简洁易用的文本领域全流程API、多场景的应用示例、非常丰富的预训练模型，深度适配飞桨框架2.x版本。\n",
    "\n",
    "比赛传送门：[常规赛：中文新闻文本标题分类](https://aistudio.baidu.com/aistudio/competition/detail/107)\n",
    "\n",
    "## 1.2 数据介绍：\n",
    "\n",
    "THUCNews是根据新浪新闻RSS订阅频道2005~2011年间的历史数据筛选过滤生成，包含74万篇新闻文档（2.19 GB），均为UTF-8纯文本格式。本次比赛数据集在原始新浪新闻分类体系的基础上，重新整合划分出14个候选分类类别：财经、彩票、房产、股票、家居、教育、科技、社会、时尚、时政、体育、星座、游戏、娱乐。提供训练数据共832471条。\n",
    "\n",
    "比赛提供数据集的格式：训练集和验证集格式：原文标题+\\t+标签，测试集格式：原文标题。\n",
    "\n",
    "## 1.3 Baseline思路：\n",
    "\n",
    "赛题为一道较常规的短文本多分类任务，本项目主要基于PaddleNLP通过预训练模型Robert在提供的训练数据上进行微调完成新闻14分类模型的训练与优化，最后利用训练好的模型对测试数据进行预测并生成提交结果文件。\n",
    "\n",
    "注意本项目运行需要选择至尊版的GPU环境！若显存不足注意适当改小下batchsize！\n",
    "\n",
    "BERT前置知识补充：[【原理】经典的预训练模型-BERT](https://aistudio.baidu.com/aistudio/projectdetail/2297740)"
   ]
  },
  {
   "cell_type": "markdown",
   "metadata": {
    "collapsed": false
   },
   "source": [
    "![](https://ai-studio-static-online.cdn.bcebos.com/adafc232c53f49258d410e68e3863f1de6747547a9d34ca6b6bf8f4891f4621b)"
   ]
  },
  {
   "cell_type": "markdown",
   "metadata": {
    "collapsed": false
   },
   "source": [
    "![](https://ai-studio-static-online.cdn.bcebos.com/b3c5b8ca36e84dcda5a9f1b35b1c6123caf703a1d5b34e1db841bcfdeac2d0d5)"
   ]
  },
  {
   "cell_type": "markdown",
   "metadata": {
    "collapsed": false
   },
   "source": [
    "# 二、数据读取与分析"
   ]
  },
  {
   "cell_type": "markdown",
   "metadata": {
    "collapsed": false
   },
   "source": [
    "## 1.数据分析"
   ]
  },
  {
   "cell_type": "code",
   "execution_count": null,
   "metadata": {
    "collapsed": false
   },
   "outputs": [
    {
     "name": "stdout",
     "output_type": "stream",
     "text": [
      "/home/aistudio/data/data103654\n"
     ]
    }
   ],
   "source": [
    "# 进入比赛数据集存放目录\r\n",
    "%cd /home/aistudio/data/data103654/"
   ]
  },
  {
   "cell_type": "code",
   "execution_count": null,
   "metadata": {
    "collapsed": false
   },
   "outputs": [],
   "source": [
    "# 使用pandas读取数据集\r\n",
    "import pandas as pd\r\n",
    "train = pd.read_table('train.txt', sep='\\t',header=None)  # 训练集\r\n",
    "dev = pd.read_table('dev.txt', sep='\\t',header=None)      # 验证集\r\n",
    "test = pd.read_table('test.txt', sep='\\t',header=None)    # 测试集"
   ]
  },
  {
   "cell_type": "code",
   "execution_count": null,
   "metadata": {
    "collapsed": false
   },
   "outputs": [
    {
     "name": "stdout",
     "output_type": "stream",
     "text": [
      "train数据集长度： 752471\t dev数据集长度80000\t test数据集长度83599\n"
     ]
    }
   ],
   "source": [
    "print(f\"train数据集长度： {len(train)}\\t dev数据集长度{len(dev)}\\t test数据集长度{len(test)}\")"
   ]
  },
  {
   "cell_type": "code",
   "execution_count": null,
   "metadata": {
    "collapsed": false
   },
   "outputs": [],
   "source": [
    "# 添加列名便于对数据进行更好处理\r\n",
    "train.columns = [\"text_a\",'label']\r\n",
    "dev.columns = [\"text_a\",'label']\r\n",
    "test.columns = [\"text_a\"]"
   ]
  },
  {
   "cell_type": "code",
   "execution_count": null,
   "metadata": {
    "collapsed": false
   },
   "outputs": [],
   "source": [
    "# 拼接训练和验证集，便于统计分析\r\n",
    "total = pd.concat([train,dev],axis=0)"
   ]
  },
  {
   "cell_type": "code",
   "execution_count": null,
   "metadata": {
    "collapsed": false
   },
   "outputs": [
    {
     "name": "stdout",
     "output_type": "stream",
     "text": [
      "/home/aistudio\n",
      "cp: cannot create regular file '.fonts/': Not a directory\r\n"
     ]
    }
   ],
   "source": [
    "#创建字体目录fonts\r\n",
    "%cd ~\r\n",
    "# !mkdir .fonts\r\n",
    "\r\n",
    "# 复制字体文件到该路径\r\n",
    "!cp data/data61659/simhei.ttf .fonts/"
   ]
  },
  {
   "cell_type": "code",
   "execution_count": null,
   "metadata": {
    "collapsed": false
   },
   "outputs": [
    {
     "name": "stdout",
     "output_type": "stream",
     "text": [
      "科技    162245\n",
      "股票    153949\n",
      "体育    130982\n",
      "娱乐     92228\n",
      "时政     62867\n",
      "社会     50541\n",
      "教育     41680\n",
      "财经     36963\n",
      "家居     32363\n",
      "游戏     24283\n",
      "房产     19922\n",
      "时尚     13335\n",
      "彩票      7598\n",
      "星座      3515\n",
      "Name: label, dtype: int64\n"
     ]
    },
    {
     "name": "stderr",
     "output_type": "stream",
     "text": [
      "/opt/conda/envs/python35-paddle120-env/lib/python3.7/site-packages/matplotlib/font_manager.py:1331: UserWarning: findfont: Font family ['sans-serif'] not found. Falling back to DejaVu Sans\n",
      "  (prop.get_family(), self.defaultFamily[fontext]))\n"
     ]
    },
    {
     "data": {
      "image/png": "[encoded data removed]",
      "text/plain": [
       "<Figure size 432x288 with 1 Axes>"
      ]
     },
     "metadata": {},
     "output_type": "display_data"
    }
   ],
   "source": [
    "# 总类别标签分布统计\r\n",
    "print(total['label'].value_counts())\r\n",
    "%matplotlib inline\r\n",
    "import matplotlib as mpl\r\n",
    "import matplotlib.pyplot as plt\r\n",
    "\r\n",
    "#指定默认字体\r\n",
    "mpl.rcParams['font.sans-serif'] = ['SimHei']\r\n",
    "mpl.rcParams['font.family']='sans-serif'\r\n",
    "#解决负号'-'显示为方块的问题\r\n",
    "mpl.rcParams['axes.unicode_minus'] = False\r\n",
    "\r\n",
    "total['label'].value_counts().plot.bar()\r\n",
    "plt.show()"
   ]
  },
  {
   "cell_type": "code",
   "execution_count": null,
   "metadata": {
    "collapsed": false
   },
   "outputs": [
    {
     "data": {
      "text/plain": [
       "48"
      ]
     },
     "execution_count": null,
     "metadata": {},
     "output_type": "execute_result"
    }
   ],
   "source": [
    "# 最大文本长度\r\n",
    "max(total['text_a'].str.len())"
   ]
  },
  {
   "cell_type": "code",
   "execution_count": null,
   "metadata": {
    "collapsed": false
   },
   "outputs": [
    {
     "data": {
      "text/plain": [
       "count    832471.000000\n",
       "mean         19.388112\n",
       "std           4.097139\n",
       "min           2.000000\n",
       "25%          17.000000\n",
       "50%          20.000000\n",
       "75%          23.000000\n",
       "max          48.000000\n",
       "Name: text_a, dtype: float64"
      ]
     },
     "execution_count": null,
     "metadata": {},
     "output_type": "execute_result"
    }
   ],
   "source": [
    "# 文本长度统计分析,通过分析可以看出文本较短，最长为48\r\n",
    "total['text_a'].map(len).describe()"
   ]
  },
  {
   "cell_type": "code",
   "execution_count": null,
   "metadata": {
    "collapsed": false
   },
   "outputs": [
    {
     "data": {
      "text/plain": [
       "count    83599.000000\n",
       "mean        19.815022\n",
       "std          3.883845\n",
       "min          3.000000\n",
       "25%         17.000000\n",
       "50%         20.000000\n",
       "75%         23.000000\n",
       "max         84.000000\n",
       "Name: text_a, dtype: float64"
      ]
     },
     "execution_count": null,
     "metadata": {},
     "output_type": "execute_result"
    }
   ],
   "source": [
    "# 对测试集的长度统计分析，可以看出在长度上分布与训练数据相近\r\n",
    "test['text_a'].map(len).describe()"
   ]
  },
  {
   "cell_type": "markdown",
   "metadata": {
    "collapsed": false
   },
   "source": [
    "## 2.保存数据"
   ]
  },
  {
   "cell_type": "code",
   "execution_count": null,
   "metadata": {
    "collapsed": false
   },
   "outputs": [],
   "source": [
    "# 保存处理后的数据集文件\r\n",
    "train.to_csv('train.csv', sep='\\t', index=False)  # 保存训练集，格式为text_a,label\r\n",
    "dev.to_csv('dev.csv', sep='\\t', index=False)      # 保存验证集，格式为text_a,label\r\n",
    "test.to_csv('test.csv', sep='\\t', index=False)    # 保存测试集，格式为text_a"
   ]
  },
  {
   "cell_type": "markdown",
   "metadata": {
    "collapsed": false
   },
   "source": [
    "# 三.基于PaddleNLP构建基线模型"
   ]
  },
  {
   "cell_type": "markdown",
   "metadata": {
    "collapsed": false
   },
   "source": [
    "![](https://ai-studio-static-online.cdn.bcebos.com/75742955d912447c948bb679994a09039af5f85cfb554715be56c970db5ec3f6)"
   ]
  },
  {
   "cell_type": "markdown",
   "metadata": {
    "collapsed": false
   },
   "source": [
    "## 1 PaddleNLP环境准备"
   ]
  },
  {
   "cell_type": "code",
   "execution_count": null,
   "metadata": {
    "collapsed": false
   },
   "outputs": [],
   "source": [
    "# 下载最新版本的paddlenlp\r\n",
    "# !pip install --upgrade paddlenlp"
   ]
  },
  {
   "cell_type": "code",
   "execution_count": null,
   "metadata": {
    "collapsed": false
   },
   "outputs": [],
   "source": [
    "# 导入所需的第三方库\r\n",
    "import math\r\n",
    "import numpy as np\r\n",
    "import os\r\n",
    "import collections\r\n",
    "from functools import partial\r\n",
    "import random\r\n",
    "import time\r\n",
    "import inspect\r\n",
    "import importlib\r\n",
    "from tqdm import tqdm\r\n",
    "import paddle\r\n",
    "import paddle.nn as nn\r\n",
    "import paddle.nn.functional as F\r\n",
    "from paddle.io import IterableDataset\r\n",
    "from paddle.utils.download import get_path_from_url\r\n",
    "# 导入paddlenlp所需的相关包\r\n",
    "import paddlenlp as ppnlp\r\n",
    "from paddlenlp.data import JiebaTokenizer, Pad, Stack, Tuple, Vocab\r\n",
    "from paddlenlp.datasets import MapDataset\r\n",
    "from paddle.dataset.common import md5file\r\n",
    "from paddlenlp.datasets import DatasetBuilder"
   ]
  },
  {
   "cell_type": "markdown",
   "metadata": {
    "collapsed": false
   },
   "source": [
    "## 2.数据集定义"
   ]
  },
  {
   "cell_type": "code",
   "execution_count": null,
   "metadata": {
    "collapsed": false
   },
   "outputs": [
    {
     "name": "stdout",
     "output_type": "stream",
     "text": [
      "['科技', '体育', '时政', '股票', '娱乐', '教育', '家居', '财经', '房产', '社会', '游戏', '彩票', '星座', '时尚']\n"
     ]
    }
   ],
   "source": [
    "# 定义要进行分类的14个类别\r\n",
    "label_list=list(train.label.unique())\r\n",
    "print(label_list)"
   ]
  },
  {
   "cell_type": "code",
   "execution_count": null,
   "metadata": {
    "collapsed": false
   },
   "outputs": [
    {
     "name": "stdout",
     "output_type": "stream",
     "text": [
      "{0: '科技', 1: '体育', 2: '时政', 3: '股票', 4: '娱乐', 5: '教育', 6: '家居', 7: '财经', 8: '房产', 9: '社会', 10: '游戏', 11: '彩票', 12: '星座', 13: '时尚'}\n",
      "{'科技': 0, '体育': 1, '时政': 2, '股票': 3, '娱乐': 4, '教育': 5, '家居': 6, '财经': 7, '房产': 8, '社会': 9, '游戏': 10, '彩票': 11, '星座': 12, '时尚': 13}\n"
     ]
    }
   ],
   "source": [
    "# id 到 label转换\r\n",
    "id_label_dict={}\r\n",
    "for i in range(0,len(label_list)):\r\n",
    "    id_label_dict[i]=label_list[i]\r\n",
    "print(id_label_dict)\r\n",
    "#################################################\r\n",
    "# label到id转换\r\n",
    "label_id_dict={}\r\n",
    "for i in range(0,len(label_list)):\r\n",
    "    label_id_dict[label_list[i]]=i\r\n",
    "print(label_id_dict)"
   ]
  },
  {
   "cell_type": "code",
   "execution_count": null,
   "metadata": {
    "collapsed": false
   },
   "outputs": [],
   "source": [
    "def read(pd_data):\r\n",
    "    for index, item in pd_data.iterrows():       \r\n",
    "        yield {'text_a': item['text_a'], 'label': label_id_dict[item['label']]}"
   ]
  },
  {
   "cell_type": "code",
   "execution_count": null,
   "metadata": {
    "collapsed": false
   },
   "outputs": [],
   "source": [
    "# 训练集、测试集\r\n",
    "from paddle.io import Dataset, Subset\r\n",
    "from paddlenlp.datasets import MapDataset\r\n",
    "from paddlenlp.datasets import load_dataset\r\n",
    "\r\n",
    "train_dataset = load_dataset(read, pd_data=train,lazy=False)\r\n",
    "dev_dataset = load_dataset(read, pd_data=dev,lazy=False)"
   ]
  },
  {
   "cell_type": "code",
   "execution_count": null,
   "metadata": {
    "collapsed": false
   },
   "outputs": [
    {
     "name": "stdout",
     "output_type": "stream",
     "text": [
      "{'text_a': '网易第三季度业绩低于分析师预期', 'label': 0}\n",
      "{'text_a': '巴萨1年前地狱重现这次却是天堂 再赴魔鬼客场必翻盘', 'label': 1}\n",
      "{'text_a': '美国称支持向朝鲜提供紧急人道主义援助', 'label': 2}\n",
      "{'text_a': '增资交银康联 交行夺参股险商首单', 'label': 3}\n",
      "{'text_a': '午盘：原材料板块领涨大盘', 'label': 3}\n"
     ]
    }
   ],
   "source": [
    "for i in range(5):\r\n",
    "    print(train_dataset[i])"
   ]
  },
  {
   "cell_type": "markdown",
   "metadata": {
    "collapsed": false
   },
   "source": [
    "## 3加载预训练模型"
   ]
  },
  {
   "cell_type": "code",
   "execution_count": null,
   "metadata": {
    "collapsed": false
   },
   "outputs": [],
   "source": [
    "# 此次使用在中文领域效果较优的roberta-wwm-ext-large模型，预训练模型一般“大力出奇迹”，选用大的预训练模型可以取得比base模型更优的效果\r\n",
    "MODEL_NAME = \"roberta-wwm-ext-large\"\r\n",
    "# 只需指定想要使用的模型名称和文本分类的类别数即可完成Fine-tune网络定义，通过在预训练模型后拼接上一个全连接网络（Full Connected）进行分类\r\n",
    "model = ppnlp.transformers.RobertaForSequenceClassification.from_pretrained(MODEL_NAME, num_classes=14) # 此次分类任务为14分类任务，故num_classes设置为14\r\n",
    "# 定义模型对应的tokenizer，tokenizer可以把原始输入文本转化成模型model可接受的输入数据格式。需注意tokenizer类要与选择的模型相对应，具体可以查看PaddleNLP相关文档\r\n",
    "tokenizer = ppnlp.transformers.RobertaTokenizer.from_pretrained(MODEL_NAME)"
   ]
  },
  {
   "cell_type": "markdown",
   "metadata": {
    "collapsed": false
   },
   "source": [
    "PaddleNLP不仅支持RoBERTa预训练模型，还支持ERNIE、BERT、Electra等预训练模型。具体可以查看：[PaddleNLP模型](https://paddlenlp.readthedocs.io/zh/latest/source/paddlenlp.transformers.html)\n",
    "\n",
    "下表汇总了目前PaddleNLP支持的各类预训练模型。用户可以使用PaddleNLP提供的模型，完成问答、序列分类、token分类等任务。同时还提供了22种预训练的参数权重供用户使用，其中包含了11种中文语言模型的预训练权重。\n",
    "\n",
    "| Model | Tokenizer| Supported Task| Model Name|\n",
    "|---|---|---|---|\n",
    "| [BERT](https://arxiv.org/abs/1810.04805) | BertTokenizer|BertModel<br> BertForQuestionAnswering<br> BertForSequenceClassification<br>BertForTokenClassification| `bert-base-uncased`<br> `bert-large-uncased` <br>`bert-base-multilingual-uncased` <br>`bert-base-cased`<br> `bert-base-chinese`<br> `bert-base-multilingual-cased`<br> `bert-large-cased`<br> `bert-wwm-chinese`<br> `bert-wwm-ext-chinese` |\n",
    "|[ERNIE](https://arxiv.org/abs/1904.09223)|ErnieTokenizer<br>ErnieTinyTokenizer|ErnieModel<br> ErnieForQuestionAnswering<br> ErnieForSequenceClassification<br> ErnieForTokenClassification| `ernie-1.0`<br> `ernie-tiny`<br> `ernie-2.0-en`<br> `ernie-2.0-large-en`|\n",
    "|[RoBERTa](https://arxiv.org/abs/1907.11692)|RobertaTokenizer| RobertaModel<br>RobertaForQuestionAnswering<br>RobertaForSequenceClassification<br>RobertaForTokenClassification| `roberta-wwm-ext`<br> `roberta-wwm-ext-large`<br> `rbt3`<br> `rbtl3`|\n",
    "|[ELECTRA](https://arxiv.org/abs/2003.10555) |ElectraTokenizer| ElectraModel<br>ElectraForSequenceClassification<br>ElectraForTokenClassification<br>|`electra-small`<br> `electra-base`<br> `electra-large`<br> `chinese-electra-small`<br> `chinese-electra-base`<br>|\n",
    "\n",
    "注：其中中文的预训练模型有 `bert-base-chinese, bert-wwm-chinese, bert-wwm-ext-chinese, ernie-1.0, ernie-tiny, roberta-wwm-ext, roberta-wwm-ext-large, rbt3, rbtl3, chinese-electra-base, chinese-electra-small` 等。"
   ]
  },
  {
   "cell_type": "markdown",
   "metadata": {
    "collapsed": false
   },
   "source": [
    "![](https://ai-studio-static-online.cdn.bcebos.com/0e7623086e034228a1f7e9db834536486ba42d00823749f3bb083f3e25cdf7d9)"
   ]
  },
  {
   "cell_type": "markdown",
   "metadata": {
    "collapsed": false
   },
   "source": [
    "## 4.定义数据处理函数"
   ]
  },
  {
   "cell_type": "code",
   "execution_count": null,
   "metadata": {
    "collapsed": false
   },
   "outputs": [],
   "source": [
    "# 定义数据加载和处理函数\r\n",
    "def convert_example(example, tokenizer, max_seq_length=128, is_test=False):\r\n",
    "    qtconcat = example[\"text_a\"]\r\n",
    "    encoded_inputs = tokenizer(text=qtconcat, max_seq_len=max_seq_length)  # tokenizer处理为模型可接受的格式 \r\n",
    "    input_ids = encoded_inputs[\"input_ids\"]\r\n",
    "    token_type_ids = encoded_inputs[\"token_type_ids\"]\r\n",
    "\r\n",
    "    if not is_test:\r\n",
    "        label = np.array([example[\"label\"]], dtype=\"int64\")\r\n",
    "        return input_ids, token_type_ids, label\r\n",
    "    else:\r\n",
    "        return input_ids, token_type_ids\r\n",
    "\r\n",
    "# 定义数据加载函数dataloader\r\n",
    "def create_dataloader(dataset,\r\n",
    "                      mode='train',\r\n",
    "                      batch_size=1,\r\n",
    "                      batchify_fn=None,\r\n",
    "                      trans_fn=None):\r\n",
    "    if trans_fn:\r\n",
    "        dataset = dataset.map(trans_fn)\r\n",
    "\r\n",
    "    shuffle = True if mode == 'train' else False\r\n",
    "    # 训练数据集随机打乱，测试数据集不打乱\r\n",
    "    if mode == 'train':\r\n",
    "        batch_sampler = paddle.io.DistributedBatchSampler(\r\n",
    "            dataset, batch_size=batch_size, shuffle=shuffle)\r\n",
    "    else:\r\n",
    "        batch_sampler = paddle.io.BatchSampler(\r\n",
    "            dataset, batch_size=batch_size, shuffle=shuffle)\r\n",
    "\r\n",
    "    return paddle.io.DataLoader(\r\n",
    "        dataset=dataset,\r\n",
    "        batch_sampler=batch_sampler,\r\n",
    "        collate_fn=batchify_fn,\r\n",
    "        return_list=True)"
   ]
  },
  {
   "cell_type": "markdown",
   "metadata": {
    "collapsed": false
   },
   "source": [
    "# 四、模型训练"
   ]
  },
  {
   "cell_type": "markdown",
   "metadata": {
    "collapsed": false
   },
   "source": [
    "## 1.超参设置"
   ]
  },
  {
   "cell_type": "code",
   "execution_count": null,
   "metadata": {
    "collapsed": false
   },
   "outputs": [],
   "source": [
    "# 参数设置：\r\n",
    "# 批处理大小，显存如若不足的话可以适当改小该值  \r\n",
    "batch_size = 360\r\n",
    "# 文本序列最大截断长度，需要根据文本具体长度进行确定，最长不超过512。 通过文本长度分析可以看出文本长度最大为48，故此处设置为48\r\n",
    "max_seq_length = max(total['text_a'].str.len())"
   ]
  },
  {
   "cell_type": "markdown",
   "metadata": {
    "collapsed": false
   },
   "source": [
    "## 2.数据处理"
   ]
  },
  {
   "cell_type": "code",
   "execution_count": null,
   "metadata": {
    "collapsed": false
   },
   "outputs": [],
   "source": [
    "# 将数据处理成模型可读入的数据格式\r\n",
    "trans_func = partial(\r\n",
    "    convert_example,\r\n",
    "    tokenizer=tokenizer,\r\n",
    "    max_seq_length=max_seq_length)\r\n",
    "\r\n",
    "batchify_fn = lambda samples, fn=Tuple(\r\n",
    "    Pad(axis=0, pad_val=tokenizer.pad_token_id),  # input_ids\r\n",
    "    Pad(axis=0, pad_val=tokenizer.pad_token_type_id),  # token_type_ids\r\n",
    "    Stack()  # labels\r\n",
    "): [data for data in fn(samples)]\r\n",
    "\r\n",
    "# 训练集迭代器\r\n",
    "train_data_loader = create_dataloader(\r\n",
    "    train_dataset,\r\n",
    "    mode='train',\r\n",
    "    batch_size=batch_size,\r\n",
    "    batchify_fn=batchify_fn,\r\n",
    "    trans_fn=trans_func)\r\n",
    "\r\n",
    "# 验证集迭代器\r\n",
    "dev_data_loader = create_dataloader(\r\n",
    "    dev_dataset,\r\n",
    "    mode='dev',\r\n",
    "    batch_size=batch_size,\r\n",
    "    batchify_fn=batchify_fn,\r\n",
    "    trans_fn=trans_func)"
   ]
  },
  {
   "cell_type": "markdown",
   "metadata": {
    "collapsed": false
   },
   "source": [
    "## 3.设置评价指标\n",
    "\n",
    "适用于BERT这类Transformer模型的学习率为warmup的动态学习率。"
   ]
  },
  {
   "cell_type": "code",
   "execution_count": null,
   "metadata": {
    "collapsed": false
   },
   "outputs": [],
   "source": [
    "# 定义超参，loss，优化器等\r\n",
    "from paddlenlp.transformers import LinearDecayWithWarmup\r\n",
    "\r\n",
    "\r\n",
    "# 定义训练过程中的最大学习率\r\n",
    "learning_rate = 4e-5\r\n",
    "# 训练轮次\r\n",
    "epochs = 32\r\n",
    "# 学习率预热比例\r\n",
    "warmup_proportion = 0.1\r\n",
    "# 权重衰减系数，类似模型正则项策略，避免模型过拟合\r\n",
    "weight_decay = 0.01\r\n",
    "\r\n",
    "num_training_steps = len(train_data_loader) * epochs\r\n",
    "lr_scheduler = LinearDecayWithWarmup(learning_rate, num_training_steps, warmup_proportion)\r\n",
    "\r\n",
    "# AdamW优化器\r\n",
    "optimizer = paddle.optimizer.AdamW(\r\n",
    "    learning_rate=lr_scheduler,\r\n",
    "    parameters=model.parameters(),\r\n",
    "    weight_decay=weight_decay,\r\n",
    "    apply_decay_param_fun=lambda x: x in [\r\n",
    "        p.name for n, p in model.named_parameters()\r\n",
    "        if not any(nd in n for nd in [\"bias\", \"norm\"])\r\n",
    "    ])\r\n",
    "\r\n",
    "criterion = paddle.nn.loss.CrossEntropyLoss()  # 交叉熵损失函数\r\n",
    "metric = paddle.metric.Accuracy()              # accuracy评价指标"
   ]
  },
  {
   "cell_type": "markdown",
   "metadata": {
    "collapsed": false
   },
   "source": [
    "## 4.模型评估"
   ]
  },
  {
   "cell_type": "markdown",
   "metadata": {
    "collapsed": false
   },
   "source": [
    "ps：模型训练时，可以通过在终端输入nvidia-smi命令或者通过点击底部‘性能监控’选项查看显存的占用情况，适当调整好batchsize，防止出现显存不足意外暂停的情况。"
   ]
  },
  {
   "cell_type": "code",
   "execution_count": null,
   "metadata": {
    "collapsed": false
   },
   "outputs": [],
   "source": [
    "# 定义模型训练验证评估函数\r\n",
    "@paddle.no_grad()\r\n",
    "def evaluate(model, criterion, metric, data_loader):\r\n",
    "    model.eval()\r\n",
    "    metric.reset()\r\n",
    "    losses = []\r\n",
    "    for batch in data_loader:\r\n",
    "        input_ids, token_type_ids, labels = batch\r\n",
    "        logits = model(input_ids, token_type_ids)\r\n",
    "        loss = criterion(logits, labels)\r\n",
    "        losses.append(loss.numpy())\r\n",
    "        correct = metric.compute(logits, labels)\r\n",
    "        metric.update(correct)\r\n",
    "        accu = metric.accumulate()\r\n",
    "    print(\"eval loss: %.8f, accu: %.8f\" % (np.mean(losses), accu))  # 输出验证集上评估效果\r\n",
    "    model.train()\r\n",
    "    metric.reset()\r\n",
    "    return  np.mean(losses), accu  # 返回准确率"
   ]
  },
  {
   "cell_type": "markdown",
   "metadata": {
    "collapsed": false
   },
   "source": [
    "## 5.模型训练"
   ]
  },
  {
   "cell_type": "code",
   "execution_count": null,
   "metadata": {
    "collapsed": false
   },
   "outputs": [
    {
     "name": "stdout",
     "output_type": "stream",
     "text": [
      "/home/aistudio\n"
     ]
    }
   ],
   "source": [
    "# 固定随机种子便于结果的复现\r\n",
    "# seed = 1024\r\n",
    "seed = 512\r\n",
    "random.seed(seed)\r\n",
    "np.random.seed(seed)\r\n",
    "paddle.seed(seed)\r\n",
    "%cd ~"
   ]
  },
  {
   "cell_type": "markdown",
   "metadata": {
    "collapsed": false
   },
   "source": [
    "ps:模型训练时可以通过在终端输入nvidia-smi命令或通过底部右下的性能监控选项查看显存占用情况，显存不足的话要适当调整好batchsize的值。"
   ]
  },
  {
   "cell_type": "code",
   "execution_count": null,
   "metadata": {
    "collapsed": false
   },
   "outputs": [
    {
     "name": "stdout",
     "output_type": "stream",
     "text": [
      "global step 40, epoch: 1, batch: 40, loss: 2.66168261, accu: 0.03826389, speed: 0.61 step/s\n",
      "global step 80, epoch: 1, batch: 80, loss: 2.55217147, accu: 0.06201389, speed: 0.60 step/s\n",
      "global step 120, epoch: 1, batch: 120, loss: 2.35012722, accu: 0.13446759, speed: 0.60 step/s\n",
      "global step 160, epoch: 1, batch: 160, loss: 1.87099862, accu: 0.22362847, speed: 0.60 step/s\n",
      "global step 200, epoch: 1, batch: 200, loss: 1.30100632, accu: 0.30144444, speed: 0.59 step/s\n",
      "global step 240, epoch: 1, batch: 240, loss: 0.89265573, accu: 0.37986111, speed: 0.60 step/s\n",
      "global step 280, epoch: 1, batch: 280, loss: 0.59178758, accu: 0.44602183, speed: 0.59 step/s\n",
      "global step 320, epoch: 1, batch: 320, loss: 0.40790802, accu: 0.49969618, speed: 0.60 step/s\n",
      "global step 360, epoch: 1, batch: 360, loss: 0.39611995, accu: 0.54423611, speed: 0.59 step/s\n",
      "global step 400, epoch: 1, batch: 400, loss: 0.40274370, accu: 0.58047917, speed: 0.59 step/s\n",
      "global step 440, epoch: 1, batch: 440, loss: 0.31529644, accu: 0.61082702, speed: 0.59 step/s\n",
      "global step 480, epoch: 1, batch: 480, loss: 0.30232269, accu: 0.63619213, speed: 0.58 step/s\n",
      "global step 520, epoch: 1, batch: 520, loss: 0.33462012, accu: 0.65837073, speed: 0.60 step/s\n",
      "global step 560, epoch: 1, batch: 560, loss: 0.29469413, accu: 0.67740079, speed: 0.60 step/s\n",
      "global step 600, epoch: 1, batch: 600, loss: 0.26175639, accu: 0.69389815, speed: 0.60 step/s\n",
      "global step 640, epoch: 1, batch: 640, loss: 0.23396534, accu: 0.70868490, speed: 0.59 step/s\n",
      "global step 680, epoch: 1, batch: 680, loss: 0.23595652, accu: 0.72179330, speed: 0.59 step/s\n",
      "global step 720, epoch: 1, batch: 720, loss: 0.20935695, accu: 0.73346065, speed: 0.59 step/s\n",
      "global step 760, epoch: 1, batch: 760, loss: 0.19594315, accu: 0.74396199, speed: 0.60 step/s\n",
      "global step 800, epoch: 1, batch: 800, loss: 0.22720760, accu: 0.75360417, speed: 0.60 step/s\n",
      "global step 840, epoch: 1, batch: 840, loss: 0.26421335, accu: 0.76210648, speed: 0.59 step/s\n",
      "global step 880, epoch: 1, batch: 880, loss: 0.19780147, accu: 0.77011048, speed: 0.60 step/s\n",
      "global step 920, epoch: 1, batch: 920, loss: 0.11989931, accu: 0.77750302, speed: 0.59 step/s\n",
      "global step 960, epoch: 1, batch: 960, loss: 0.25420505, accu: 0.78407986, speed: 0.59 step/s\n",
      "global step 1000, epoch: 1, batch: 1000, loss: 0.21302503, accu: 0.79027500, speed: 0.59 step/s\n",
      "global step 1040, epoch: 1, batch: 1040, loss: 0.21804300, accu: 0.79607639, speed: 0.59 step/s\n",
      "global step 1080, epoch: 1, batch: 1080, loss: 0.20004293, accu: 0.80146348, speed: 0.60 step/s\n",
      "global step 1120, epoch: 1, batch: 1120, loss: 0.13202177, accu: 0.80650298, speed: 0.59 step/s\n",
      "global step 1160, epoch: 1, batch: 1160, loss: 0.20018557, accu: 0.81110872, speed: 0.59 step/s\n",
      "global step 1200, epoch: 1, batch: 1200, loss: 0.17520264, accu: 0.81549306, speed: 0.60 step/s\n",
      "global step 1240, epoch: 1, batch: 1240, loss: 0.16838190, accu: 0.81971550, speed: 0.59 step/s\n",
      "global step 1280, epoch: 1, batch: 1280, loss: 0.19400227, accu: 0.82351128, speed: 0.59 step/s\n",
      "global step 1320, epoch: 1, batch: 1320, loss: 0.12447893, accu: 0.82720328, speed: 0.59 step/s\n",
      "global step 1360, epoch: 1, batch: 1360, loss: 0.24491167, accu: 0.83060049, speed: 0.58 step/s\n",
      "global step 1400, epoch: 1, batch: 1400, loss: 0.16221967, accu: 0.83382937, speed: 0.60 step/s\n",
      "global step 1440, epoch: 1, batch: 1440, loss: 0.22842427, accu: 0.83685571, speed: 0.60 step/s\n",
      "global step 1480, epoch: 1, batch: 1480, loss: 0.16180661, accu: 0.83975976, speed: 0.59 step/s\n",
      "global step 1520, epoch: 1, batch: 1520, loss: 0.20264953, accu: 0.84254751, speed: 0.59 step/s\n",
      "global step 1560, epoch: 1, batch: 1560, loss: 0.19902995, accu: 0.84518519, speed: 0.60 step/s\n",
      "global step 1600, epoch: 1, batch: 1600, loss: 0.17133461, accu: 0.84770660, speed: 0.60 step/s\n",
      "global step 1640, epoch: 1, batch: 1640, loss: 0.14073460, accu: 0.85010501, speed: 0.59 step/s\n",
      "global step 1680, epoch: 1, batch: 1680, loss: 0.16109636, accu: 0.85238922, speed: 0.59 step/s\n",
      "global step 1720, epoch: 1, batch: 1720, loss: 0.17589858, accu: 0.85458979, speed: 0.59 step/s\n",
      "global step 1760, epoch: 1, batch: 1760, loss: 0.17276089, accu: 0.85674558, speed: 0.59 step/s\n",
      "global step 1800, epoch: 1, batch: 1800, loss: 0.15035772, accu: 0.85872068, speed: 0.59 step/s\n",
      "global step 1840, epoch: 1, batch: 1840, loss: 0.15502724, accu: 0.86067633, speed: 0.59 step/s\n",
      "global step 1880, epoch: 1, batch: 1880, loss: 0.14147128, accu: 0.86254433, speed: 0.59 step/s\n",
      "global step 1920, epoch: 1, batch: 1920, loss: 0.16157188, accu: 0.86439525, speed: 0.59 step/s\n",
      "global step 1960, epoch: 1, batch: 1960, loss: 0.16061194, accu: 0.86607993, speed: 0.60 step/s\n",
      "global step 2000, epoch: 1, batch: 2000, loss: 0.16157156, accu: 0.86773472, speed: 0.59 step/s\n",
      "global step 2040, epoch: 1, batch: 2040, loss: 0.20375380, accu: 0.86926743, speed: 0.60 step/s\n",
      "global step 2080, epoch: 1, batch: 2080, loss: 0.13566890, accu: 0.87075187, speed: 0.59 step/s\n",
      "global step 2120, epoch: 2, batch: 29, loss: 0.13396244, accu: 0.87233111, speed: 0.60 step/s\n",
      "global step 2160, epoch: 2, batch: 69, loss: 0.11650663, accu: 0.87395393, speed: 0.60 step/s\n",
      "global step 2200, epoch: 2, batch: 109, loss: 0.15937009, accu: 0.87548613, speed: 0.59 step/s\n",
      "global step 2240, epoch: 2, batch: 149, loss: 0.16712877, accu: 0.87698592, speed: 0.59 step/s\n",
      "global step 2280, epoch: 2, batch: 189, loss: 0.10917982, accu: 0.87835751, speed: 0.59 step/s\n",
      "global step 2320, epoch: 2, batch: 229, loss: 0.09748576, accu: 0.87969137, speed: 0.59 step/s\n",
      "global step 2360, epoch: 2, batch: 269, loss: 0.15784366, accu: 0.88097528, speed: 0.59 step/s\n",
      "global step 2400, epoch: 2, batch: 309, loss: 0.14650443, accu: 0.88217818, speed: 0.59 step/s\n",
      "global step 2440, epoch: 2, batch: 349, loss: 0.18103148, accu: 0.88336440, speed: 0.59 step/s\n",
      "global step 2480, epoch: 2, batch: 389, loss: 0.13677049, accu: 0.88451571, speed: 0.59 step/s\n",
      "global step 2520, epoch: 2, batch: 429, loss: 0.14471813, accu: 0.88569441, speed: 0.59 step/s\n",
      "global step 2560, epoch: 2, batch: 469, loss: 0.10740256, accu: 0.88682323, speed: 0.59 step/s\n",
      "global step 2600, epoch: 2, batch: 509, loss: 0.11426187, accu: 0.88785854, speed: 0.59 step/s\n",
      "global step 2640, epoch: 2, batch: 549, loss: 0.12956497, accu: 0.88887509, speed: 0.60 step/s\n",
      "global step 2680, epoch: 2, batch: 589, loss: 0.15131475, accu: 0.88988513, speed: 0.60 step/s\n",
      "global step 2720, epoch: 2, batch: 629, loss: 0.08550296, accu: 0.89083788, speed: 0.59 step/s\n",
      "global step 2760, epoch: 2, batch: 669, loss: 0.13498443, accu: 0.89177710, speed: 0.59 step/s\n",
      "global step 2800, epoch: 2, batch: 709, loss: 0.10268699, accu: 0.89267359, speed: 0.59 step/s\n",
      "global step 2840, epoch: 2, batch: 749, loss: 0.14280342, accu: 0.89357809, speed: 0.60 step/s\n",
      "global step 2880, epoch: 2, batch: 789, loss: 0.14486991, accu: 0.89449220, speed: 0.60 step/s\n",
      "global step 2920, epoch: 2, batch: 829, loss: 0.14648315, accu: 0.89538125, speed: 0.59 step/s\n",
      "global step 2960, epoch: 2, batch: 869, loss: 0.10042919, accu: 0.89624438, speed: 0.59 step/s\n",
      "global step 3000, epoch: 2, batch: 909, loss: 0.17139210, accu: 0.89707801, speed: 0.59 step/s\n",
      "eval loss: 0.10926867, accu: 0.96518750\n",
      "eval  on dev  loss: 0.10926867, accu: 0.9651875\n",
      "模型保存在 3000 步， 最佳eval准确度为0.96518750！\n",
      "global step 3040, epoch: 2, batch: 949, loss: 0.11478367, accu: 0.95430556, speed: 0.20 step/s\n",
      "global step 3080, epoch: 2, batch: 989, loss: 0.13277237, accu: 0.95520833, speed: 0.59 step/s\n",
      "global step 3120, epoch: 2, batch: 1029, loss: 0.17795959, accu: 0.95530093, speed: 0.59 step/s\n",
      "global step 3160, epoch: 2, batch: 1069, loss: 0.13172887, accu: 0.95578125, speed: 0.59 step/s\n",
      "global step 3200, epoch: 2, batch: 1109, loss: 0.12943189, accu: 0.95620833, speed: 0.59 step/s\n",
      "eval loss: 0.10214896, accu: 0.96726250\n",
      "eval  on dev  loss: 0.10214896, accu: 0.9672625\n",
      "模型保存在 3200 步， 最佳eval准确度为0.96726250！\n",
      "global step 3240, epoch: 2, batch: 1149, loss: 0.15281750, accu: 0.95611111, speed: 0.20 step/s\n",
      "global step 3280, epoch: 2, batch: 1189, loss: 0.16772594, accu: 0.95597222, speed: 0.59 step/s\n",
      "global step 3320, epoch: 2, batch: 1229, loss: 0.09810641, accu: 0.95634259, speed: 0.59 step/s\n",
      "global step 3360, epoch: 2, batch: 1269, loss: 0.15749517, accu: 0.95569444, speed: 0.60 step/s\n",
      "global step 3400, epoch: 2, batch: 1309, loss: 0.09842104, accu: 0.95615278, speed: 0.59 step/s\n",
      "eval loss: 0.09931073, accu: 0.96733750\n",
      "eval  on dev  loss: 0.099310733, accu: 0.9673375\n",
      "模型保存在 3400 步， 最佳eval准确度为0.96733750！\n",
      "global step 3440, epoch: 2, batch: 1349, loss: 0.10282571, accu: 0.95791667, speed: 0.20 step/s\n",
      "global step 3480, epoch: 2, batch: 1389, loss: 0.12941405, accu: 0.95770833, speed: 0.60 step/s\n",
      "global step 3520, epoch: 2, batch: 1429, loss: 0.19096760, accu: 0.95699074, speed: 0.59 step/s\n",
      "global step 3560, epoch: 2, batch: 1469, loss: 0.16284712, accu: 0.95699653, speed: 0.60 step/s\n",
      "global step 3600, epoch: 2, batch: 1509, loss: 0.16376908, accu: 0.95715278, speed: 0.59 step/s\n",
      "eval loss: 0.09319762, accu: 0.96950000\n",
      "eval  on dev  loss: 0.093197621, accu: 0.9695\n",
      "模型保存在 3600 步， 最佳eval准确度为0.96950000！\n",
      "global step 3640, epoch: 2, batch: 1549, loss: 0.14038211, accu: 0.95715278, speed: 0.20 step/s\n",
      "global step 3680, epoch: 2, batch: 1589, loss: 0.15250742, accu: 0.95614583, speed: 0.60 step/s\n",
      "global step 3720, epoch: 2, batch: 1629, loss: 0.14195631, accu: 0.95606481, speed: 0.59 step/s\n",
      "global step 3760, epoch: 2, batch: 1669, loss: 0.20458704, accu: 0.95640625, speed: 0.59 step/s\n",
      "global step 3800, epoch: 2, batch: 1709, loss: 0.12256803, accu: 0.95740278, speed: 0.60 step/s\n",
      "eval loss: 0.09174430, accu: 0.96953750\n",
      "eval  on dev  loss: 0.091744296, accu: 0.9695375\n",
      "模型保存在 3800 步， 最佳eval准确度为0.96953750！\n",
      "global step 3840, epoch: 2, batch: 1749, loss: 0.11225484, accu: 0.95770833, speed: 0.20 step/s\n",
      "global step 3880, epoch: 2, batch: 1789, loss: 0.09859297, accu: 0.95878472, speed: 0.60 step/s\n",
      "global step 3920, epoch: 2, batch: 1829, loss: 0.14603040, accu: 0.95803241, speed: 0.60 step/s\n",
      "global step 3960, epoch: 2, batch: 1869, loss: 0.10136303, accu: 0.95729167, speed: 0.60 step/s\n",
      "global step 4000, epoch: 2, batch: 1909, loss: 0.11340237, accu: 0.95754167, speed: 0.59 step/s\n",
      "eval loss: 0.09867395, accu: 0.96693750\n",
      "eval  on dev  loss: 0.098673955, accu: 0.9669375\n",
      "global step 4040, epoch: 2, batch: 1949, loss: 0.12067087, accu: 0.95604167, speed: 0.20 step/s\n",
      "global step 4080, epoch: 2, batch: 1989, loss: 0.13655968, accu: 0.95774306, speed: 0.59 step/s\n",
      "global step 4120, epoch: 2, batch: 2029, loss: 0.11788758, accu: 0.95921296, speed: 0.59 step/s\n",
      "global step 4160, epoch: 2, batch: 2069, loss: 0.10230584, accu: 0.95947917, speed: 0.60 step/s\n",
      "global step 4200, epoch: 3, batch: 18, loss: 0.10166528, accu: 0.95939256, speed: 0.59 step/s\n",
      "eval loss: 0.08537734, accu: 0.97185000\n",
      "eval  on dev  loss: 0.085377336, accu: 0.97185\n",
      "模型保存在 4200 步， 最佳eval准确度为0.97185000！\n",
      "global step 4240, epoch: 3, batch: 58, loss: 0.13083500, accu: 0.96687500, speed: 0.19 step/s\n",
      "global step 4280, epoch: 3, batch: 98, loss: 0.09505958, accu: 0.96732639, speed: 0.59 step/s\n",
      "global step 4320, epoch: 3, batch: 138, loss: 0.08153034, accu: 0.96763889, speed: 0.60 step/s\n",
      "global step 4360, epoch: 3, batch: 178, loss: 0.09627575, accu: 0.96762153, speed: 0.59 step/s\n",
      "global step 4400, epoch: 3, batch: 218, loss: 0.10256484, accu: 0.96801389, speed: 0.59 step/s\n",
      "eval loss: 0.08025850, accu: 0.97300000\n",
      "eval  on dev  loss: 0.080258496, accu: 0.973\n",
      "模型保存在 4400 步， 最佳eval准确度为0.97300000！\n",
      "global step 4440, epoch: 3, batch: 258, loss: 0.05031985, accu: 0.96847222, speed: 0.20 step/s\n",
      "global step 4480, epoch: 3, batch: 298, loss: 0.10324056, accu: 0.96888889, speed: 0.59 step/s\n",
      "global step 4520, epoch: 3, batch: 338, loss: 0.11842163, accu: 0.96819444, speed: 0.59 step/s\n",
      "global step 4560, epoch: 3, batch: 378, loss: 0.08254157, accu: 0.96826389, speed: 0.59 step/s\n",
      "global step 4600, epoch: 3, batch: 418, loss: 0.08742398, accu: 0.96823611, speed: 0.59 step/s\n",
      "eval loss: 0.08798651, accu: 0.97100000\n",
      "eval  on dev  loss: 0.087986514, accu: 0.971\n",
      "global step 4640, epoch: 3, batch: 458, loss: 0.08975404, accu: 0.96618056, speed: 0.20 step/s\n",
      "global step 4680, epoch: 3, batch: 498, loss: 0.07753605, accu: 0.96638889, speed: 0.59 step/s\n",
      "global step 4720, epoch: 3, batch: 538, loss: 0.09331383, accu: 0.96664352, speed: 0.60 step/s\n",
      "global step 4760, epoch: 3, batch: 578, loss: 0.12421456, accu: 0.96576389, speed: 0.60 step/s\n",
      "global step 4800, epoch: 3, batch: 618, loss: 0.09366854, accu: 0.96629167, speed: 0.59 step/s\n",
      "eval loss: 0.08481101, accu: 0.97181250\n",
      "eval  on dev  loss: 0.084811009, accu: 0.9718125\n",
      "global step 4840, epoch: 3, batch: 658, loss: 0.07656927, accu: 0.96430556, speed: 0.20 step/s\n",
      "global step 4880, epoch: 3, batch: 698, loss: 0.17020339, accu: 0.96409722, speed: 0.59 step/s\n",
      "global step 4920, epoch: 3, batch: 738, loss: 0.08426637, accu: 0.96532407, speed: 0.59 step/s\n",
      "global step 4960, epoch: 3, batch: 778, loss: 0.12548208, accu: 0.96505208, speed: 0.60 step/s\n",
      "global step 5000, epoch: 3, batch: 818, loss: 0.11333205, accu: 0.96559722, speed: 0.59 step/s\n",
      "eval loss: 0.07665095, accu: 0.97478750\n",
      "eval  on dev  loss: 0.076650955, accu: 0.9747875\n",
      "模型保存在 5000 步， 最佳eval准确度为0.97478750！\n",
      "global step 5040, epoch: 3, batch: 858, loss: 0.08936185, accu: 0.96437500, speed: 0.20 step/s\n",
      "global step 5080, epoch: 3, batch: 898, loss: 0.16134185, accu: 0.96357639, speed: 0.59 step/s\n",
      "global step 5120, epoch: 3, batch: 938, loss: 0.13989289, accu: 0.96402778, speed: 0.60 step/s\n",
      "global step 5160, epoch: 3, batch: 978, loss: 0.16866900, accu: 0.96449653, speed: 0.60 step/s\n",
      "global step 5200, epoch: 3, batch: 1018, loss: 0.11867096, accu: 0.96465278, speed: 0.59 step/s\n",
      "eval loss: 0.07556443, accu: 0.97507500\n",
      "eval  on dev  loss: 0.075564429, accu: 0.975075\n",
      "模型保存在 5200 步， 最佳eval准确度为0.97507500！\n",
      "global step 5240, epoch: 3, batch: 1058, loss: 0.09558195, accu: 0.96659722, speed: 0.20 step/s\n",
      "global step 5280, epoch: 3, batch: 1098, loss: 0.12015187, accu: 0.96472222, speed: 0.60 step/s\n",
      "global step 5320, epoch: 3, batch: 1138, loss: 0.13201657, accu: 0.96490741, speed: 0.59 step/s\n",
      "global step 5360, epoch: 3, batch: 1178, loss: 0.08133844, accu: 0.96442708, speed: 0.60 step/s\n",
      "global step 5400, epoch: 3, batch: 1218, loss: 0.10419378, accu: 0.96409722, speed: 0.60 step/s\n",
      "eval loss: 0.07599997, accu: 0.97441250\n",
      "eval  on dev  loss: 0.075999968, accu: 0.9744125\n",
      "global step 5440, epoch: 3, batch: 1258, loss: 0.13161643, accu: 0.96604167, speed: 0.20 step/s\n",
      "global step 5480, epoch: 3, batch: 1298, loss: 0.09048895, accu: 0.96569444, speed: 0.59 step/s\n",
      "global step 5520, epoch: 3, batch: 1338, loss: 0.11265116, accu: 0.96511574, speed: 0.60 step/s\n",
      "global step 5560, epoch: 3, batch: 1378, loss: 0.11892670, accu: 0.96569444, speed: 0.59 step/s\n",
      "global step 5600, epoch: 3, batch: 1418, loss: 0.13979697, accu: 0.96529167, speed: 0.59 step/s\n",
      "eval loss: 0.07110831, accu: 0.97777500\n",
      "eval  on dev  loss: 0.071108311, accu: 0.977775\n",
      "模型保存在 5600 步， 最佳eval准确度为0.97777500！\n",
      "global step 5640, epoch: 3, batch: 1458, loss: 0.10632215, accu: 0.96381944, speed: 0.20 step/s\n",
      "global step 5680, epoch: 3, batch: 1498, loss: 0.07234745, accu: 0.96468750, speed: 0.60 step/s\n",
      "global step 5720, epoch: 3, batch: 1538, loss: 0.14574963, accu: 0.96407407, speed: 0.59 step/s\n",
      "global step 5760, epoch: 3, batch: 1578, loss: 0.15499011, accu: 0.96421875, speed: 0.59 step/s\n",
      "global step 5800, epoch: 3, batch: 1618, loss: 0.12859030, accu: 0.96405556, speed: 0.60 step/s\n",
      "eval loss: 0.07231185, accu: 0.97627500\n",
      "eval  on dev  loss: 0.072311848, accu: 0.976275\n",
      "global step 5840, epoch: 3, batch: 1658, loss: 0.07545812, accu: 0.96611111, speed: 0.20 step/s\n",
      "global step 5880, epoch: 3, batch: 1698, loss: 0.13331755, accu: 0.96350694, speed: 0.59 step/s\n",
      "global step 5920, epoch: 3, batch: 1738, loss: 0.14839043, accu: 0.96342593, speed: 0.59 step/s\n",
      "global step 5960, epoch: 3, batch: 1778, loss: 0.05173485, accu: 0.96317708, speed: 0.60 step/s\n",
      "global step 6000, epoch: 3, batch: 1818, loss: 0.10502592, accu: 0.96300000, speed: 0.60 step/s\n",
      "eval loss: 0.07389978, accu: 0.97516250\n",
      "eval  on dev  loss: 0.073899783, accu: 0.9751625\n"
     ]
    },
    {
     "ename": "KeyboardInterrupt",
     "evalue": "",
     "output_type": "error",
     "traceback": [
      "\u001b[0;31m---------------------------------------------------------------------------\u001b[0m",
      "\u001b[0;31mKeyboardInterrupt\u001b[0m                         Traceback (most recent call last)",
      "\u001b[0;32m<ipython-input-40-461b823aef57>\u001b[0m in \u001b[0;36m<module>\u001b[0;34m\u001b[0m\n\u001b[1;32m     27\u001b[0m             \u001b[0mtic_train\u001b[0m \u001b[0;34m=\u001b[0m \u001b[0mtime\u001b[0m\u001b[0;34m.\u001b[0m\u001b[0mtime\u001b[0m\u001b[0;34m(\u001b[0m\u001b[0;34m)\u001b[0m\u001b[0;34m\u001b[0m\u001b[0;34m\u001b[0m\u001b[0m\n\u001b[1;32m     28\u001b[0m \u001b[0;34m\u001b[0m\u001b[0m\n\u001b[0;32m---> 29\u001b[0;31m         \u001b[0mloss\u001b[0m\u001b[0;34m.\u001b[0m\u001b[0mbackward\u001b[0m\u001b[0;34m(\u001b[0m\u001b[0;34m)\u001b[0m\u001b[0;34m\u001b[0m\u001b[0;34m\u001b[0m\u001b[0m\n\u001b[0m\u001b[1;32m     30\u001b[0m         \u001b[0moptimizer\u001b[0m\u001b[0;34m.\u001b[0m\u001b[0mstep\u001b[0m\u001b[0;34m(\u001b[0m\u001b[0;34m)\u001b[0m\u001b[0;34m\u001b[0m\u001b[0;34m\u001b[0m\u001b[0m\n\u001b[1;32m     31\u001b[0m         \u001b[0mlr_scheduler\u001b[0m\u001b[0;34m.\u001b[0m\u001b[0mstep\u001b[0m\u001b[0;34m(\u001b[0m\u001b[0;34m)\u001b[0m\u001b[0;34m\u001b[0m\u001b[0;34m\u001b[0m\u001b[0m\n",
      "\u001b[0;32m<decorator-gen-246>\u001b[0m in \u001b[0;36mbackward\u001b[0;34m(self, grad_tensor, retain_graph)\u001b[0m\n",
      "\u001b[0;32m/opt/conda/envs/python35-paddle120-env/lib/python3.7/site-packages/paddle/fluid/wrapped_decorator.py\u001b[0m in \u001b[0;36m__impl__\u001b[0;34m(func, *args, **kwargs)\u001b[0m\n\u001b[1;32m     23\u001b[0m     \u001b[0;32mdef\u001b[0m \u001b[0m__impl__\u001b[0m\u001b[0;34m(\u001b[0m\u001b[0mfunc\u001b[0m\u001b[0;34m,\u001b[0m \u001b[0;34m*\u001b[0m\u001b[0margs\u001b[0m\u001b[0;34m,\u001b[0m \u001b[0;34m**\u001b[0m\u001b[0mkwargs\u001b[0m\u001b[0;34m)\u001b[0m\u001b[0;34m:\u001b[0m\u001b[0;34m\u001b[0m\u001b[0;34m\u001b[0m\u001b[0m\n\u001b[1;32m     24\u001b[0m         \u001b[0mwrapped_func\u001b[0m \u001b[0;34m=\u001b[0m \u001b[0mdecorator_func\u001b[0m\u001b[0;34m(\u001b[0m\u001b[0mfunc\u001b[0m\u001b[0;34m)\u001b[0m\u001b[0;34m\u001b[0m\u001b[0;34m\u001b[0m\u001b[0m\n\u001b[0;32m---> 25\u001b[0;31m         \u001b[0;32mreturn\u001b[0m \u001b[0mwrapped_func\u001b[0m\u001b[0;34m(\u001b[0m\u001b[0;34m*\u001b[0m\u001b[0margs\u001b[0m\u001b[0;34m,\u001b[0m \u001b[0;34m**\u001b[0m\u001b[0mkwargs\u001b[0m\u001b[0;34m)\u001b[0m\u001b[0;34m\u001b[0m\u001b[0;34m\u001b[0m\u001b[0m\n\u001b[0m\u001b[1;32m     26\u001b[0m \u001b[0;34m\u001b[0m\u001b[0m\n\u001b[1;32m     27\u001b[0m     \u001b[0;32mreturn\u001b[0m \u001b[0m__impl__\u001b[0m\u001b[0;34m\u001b[0m\u001b[0;34m\u001b[0m\u001b[0m\n",
      "\u001b[0;32m/opt/conda/envs/python35-paddle120-env/lib/python3.7/site-packages/paddle/fluid/framework.py\u001b[0m in \u001b[0;36m__impl__\u001b[0;34m(*args, **kwargs)\u001b[0m\n\u001b[1;32m    225\u001b[0m         assert in_dygraph_mode(\n\u001b[1;32m    226\u001b[0m         ), \"We only support '%s()' in dynamic graph mode, please call 'paddle.disable_static()' to enter dynamic graph mode.\" % func.__name__\n\u001b[0;32m--> 227\u001b[0;31m         \u001b[0;32mreturn\u001b[0m \u001b[0mfunc\u001b[0m\u001b[0;34m(\u001b[0m\u001b[0;34m*\u001b[0m\u001b[0margs\u001b[0m\u001b[0;34m,\u001b[0m \u001b[0;34m**\u001b[0m\u001b[0mkwargs\u001b[0m\u001b[0;34m)\u001b[0m\u001b[0;34m\u001b[0m\u001b[0;34m\u001b[0m\u001b[0m\n\u001b[0m\u001b[1;32m    228\u001b[0m \u001b[0;34m\u001b[0m\u001b[0m\n\u001b[1;32m    229\u001b[0m     \u001b[0;32mreturn\u001b[0m \u001b[0m__impl__\u001b[0m\u001b[0;34m\u001b[0m\u001b[0;34m\u001b[0m\u001b[0m\n",
      "\u001b[0;32m/opt/conda/envs/python35-paddle120-env/lib/python3.7/site-packages/paddle/fluid/dygraph/varbase_patch_methods.py\u001b[0m in \u001b[0;36mbackward\u001b[0;34m(self, grad_tensor, retain_graph)\u001b[0m\n\u001b[1;32m    237\u001b[0m             \u001b[0;32melse\u001b[0m\u001b[0;34m:\u001b[0m\u001b[0;34m\u001b[0m\u001b[0;34m\u001b[0m\u001b[0m\n\u001b[1;32m    238\u001b[0m                 core.dygraph_run_backward([self], [grad_tensor], retain_graph,\n\u001b[0;32m--> 239\u001b[0;31m                                           framework._dygraph_tracer())\n\u001b[0m\u001b[1;32m    240\u001b[0m         \u001b[0;32melse\u001b[0m\u001b[0;34m:\u001b[0m\u001b[0;34m\u001b[0m\u001b[0;34m\u001b[0m\u001b[0m\n\u001b[1;32m    241\u001b[0m             raise ValueError(\n",
      "\u001b[0;31mKeyboardInterrupt\u001b[0m: "
     ]
    }
   ],
   "source": [
    "# 模型训练：\r\n",
    "import paddle.nn.functional as F\r\n",
    "from visualdl import LogWriter\r\n",
    "\r\n",
    "save_dir='./'\r\n",
    "writer = LogWriter(\"./log\")\r\n",
    "tic_train = time.time()\r\n",
    "global_step = 0\r\n",
    "best_val_acc=0\r\n",
    "tic_train = time.time()\r\n",
    "accu=0\r\n",
    "\r\n",
    "for epoch in range(1, epochs + 1):\r\n",
    "    for step, batch in enumerate(train_data_loader, start=1):\r\n",
    "        input_ids, segment_ids, labels = batch\r\n",
    "        logits = model(input_ids, segment_ids)\r\n",
    "        loss = criterion(logits, labels)\r\n",
    "        probs = F.softmax(logits, axis=1)\r\n",
    "        correct = metric.compute(probs, labels)\r\n",
    "        metric.update(correct)\r\n",
    "        acc = metric.accumulate()\r\n",
    "        global_step+=1\r\n",
    "        if global_step % 40 == 0:\r\n",
    "            print(\r\n",
    "                \"global step %d, epoch: %d, batch: %d, loss: %.8f, accu: %.8f, speed: %.2f step/s\"\r\n",
    "                % (global_step, epoch, step, loss, acc,\r\n",
    "                    40 / (time.time() - tic_train)))\r\n",
    "            tic_train = time.time()\r\n",
    "\r\n",
    "        loss.backward()\r\n",
    "        optimizer.step()\r\n",
    "        lr_scheduler.step()\r\n",
    "        optimizer.clear_grad()\r\n",
    "        \r\n",
    "        # 大于100次再eval，或者再大一点eval，太小没有eval的意义\r\n",
    "        if global_step % 200 == 0 and global_step>=3000:\r\n",
    "            # 评估当前训练的模型\r\n",
    "            eval_loss, eval_accu = evaluate(model, criterion, metric, dev_data_loader)\r\n",
    "            print(\"eval  on dev  loss: {:.8}, accu: {:.8}\".format(eval_loss, eval_accu))\r\n",
    "            # 加入eval日志显示\r\n",
    "            writer.add_scalar(tag=\"eval/loss\", step=global_step, value=eval_loss)\r\n",
    "            writer.add_scalar(tag=\"eval/acc\", step=global_step, value=eval_accu)\r\n",
    "            # 加入train日志显示\r\n",
    "            writer.add_scalar(tag=\"train/loss\", step=global_step, value=loss)\r\n",
    "            writer.add_scalar(tag=\"train/acc\", step=global_step, value=acc)\r\n",
    "            save_dir = \"best_checkpoint\"\r\n",
    "            # 加入保存       \r\n",
    "            if eval_accu>best_val_acc:\r\n",
    "                if not os.path.exists(save_dir):\r\n",
    "                    os.mkdir(save_dir)\r\n",
    "                best_val_acc=eval_accu\r\n",
    "                print(f\"模型保存在 {global_step} 步， 最佳eval准确度为{best_val_acc:.8f}！\")\r\n",
    "                save_param_path = os.path.join(save_dir, 'best_model.pdparams')\r\n",
    "                paddle.save(model.state_dict(), save_param_path)\r\n",
    "                fh = open('best_checkpoint/best_model.txt', 'w', encoding='utf-8')\r\n",
    "                fh.write(f\"模型保存在 {global_step} 步， 最佳eval准确度为{best_val_acc:.8f}！\")\r\n",
    "                fh.close()\r\n",
    "\r\n",
    "tokenizer.save_pretrained(save_dir)"
   ]
  },
  {
   "cell_type": "code",
   "execution_count": null,
   "metadata": {
    "collapsed": false
   },
   "outputs": [],
   "source": [
    "save_dir='./'\r\n",
    "tokenizer.save_pretrained(save_dir)"
   ]
  },
  {
   "cell_type": "code",
   "execution_count": null,
   "metadata": {
    "collapsed": false
   },
   "outputs": [],
   "source": [
    "# 测试最优模型参数在验证集上的分数\r\n",
    "evaluate(model, criterion, metric, dev_data_loader)"
   ]
  },
  {
   "cell_type": "markdown",
   "metadata": {
    "collapsed": false
   },
   "source": [
    "# 五、预测\n",
    "**此处要重启或者`killall -9 python`来释放缓存**"
   ]
  },
  {
   "cell_type": "markdown",
   "metadata": {
    "collapsed": false
   },
   "source": [
    "## 1.导入各种类库"
   ]
  },
  {
   "cell_type": "code",
   "execution_count": null,
   "metadata": {
    "collapsed": false
   },
   "outputs": [],
   "source": [
    "# 导入所需的第三方库\r\n",
    "import math\r\n",
    "import numpy as np\r\n",
    "import os\r\n",
    "import collections\r\n",
    "from functools import partial\r\n",
    "import random\r\n",
    "import time\r\n",
    "import inspect\r\n",
    "import importlib\r\n",
    "from tqdm import tqdm\r\n",
    "import paddle\r\n",
    "import paddle.nn as nn\r\n",
    "import paddle.nn.functional as F\r\n",
    "from paddle.io import IterableDataset\r\n",
    "from paddle.utils.download import get_path_from_url\r\n",
    "# 导入paddlenlp所需的相关包\r\n",
    "import paddlenlp as ppnlp\r\n",
    "from paddlenlp.data import JiebaTokenizer, Pad, Stack, Tuple, Vocab\r\n",
    "from paddlenlp.datasets import MapDataset\r\n",
    "from paddle.dataset.common import md5file\r\n",
    "from paddlenlp.datasets import DatasetBuilder"
   ]
  },
  {
   "cell_type": "markdown",
   "metadata": {
    "collapsed": false
   },
   "source": [
    "## 2.加载模型"
   ]
  },
  {
   "cell_type": "code",
   "execution_count": null,
   "metadata": {
    "collapsed": false
   },
   "outputs": [],
   "source": [
    "# 此次使用在中文领域效果较优的roberta-wwm-ext-large模型，预训练模型一般“大力出奇迹”，选用大的预训练模型可以取得比base模型更优的效果\r\n",
    "MODEL_NAME = \"roberta-wwm-ext-large\"\r\n",
    "# 只需指定想要使用的模型名称和文本分类的类别数即可完成Fine-tune网络定义，通过在预训练模型后拼接上一个全连接网络（Full Connected）进行分类\r\n",
    "model = ppnlp.transformers.RobertaForSequenceClassification.from_pretrained(MODEL_NAME, num_classes=14) # 此次分类任务为14分类任务，故num_classes设置为14\r\n",
    "# 定义模型对应的tokenizer，tokenizer可以把原始输入文本转化成模型model可接受的输入数据格式。需注意tokenizer类要与选择的模型相对应，具体可以查看PaddleNLP相关文档\r\n",
    "tokenizer = ppnlp.transformers.RobertaTokenizer.from_pretrained(MODEL_NAME)"
   ]
  },
  {
   "cell_type": "code",
   "execution_count": null,
   "metadata": {
    "collapsed": false
   },
   "outputs": [],
   "source": [
    "# 加载在验证集上效果最优的一轮的模型参数\r\n",
    "import os\r\n",
    "import paddle\r\n",
    "\r\n",
    "seed = 1024\r\n",
    "random.seed(seed)\r\n",
    "np.random.seed(seed)\r\n",
    "paddle.seed(seed)\r\n",
    "\r\n",
    "params_path = '88.73671/best_checkpoint/best_model.pdparams'\r\n",
    "if params_path and os.path.isfile(params_path):\r\n",
    "    # 加载模型参数\r\n",
    "    state_dict = paddle.load(params_path)\r\n",
    "    model.set_dict(state_dict)\r\n",
    "    print(\"Loaded parameters from %s\" % params_path)"
   ]
  },
  {
   "cell_type": "markdown",
   "metadata": {
    "collapsed": false
   },
   "source": [
    "## 3.加载test数据集"
   ]
  },
  {
   "cell_type": "code",
   "execution_count": null,
   "metadata": {
    "collapsed": false
   },
   "outputs": [],
   "source": [
    "# 读取要进行预测的测试集文件\r\n",
    "import pandas as pd\r\n",
    "test = pd.read_csv('~/data/data103654/test.txt', header=None, names=['text_a'])  "
   ]
  },
  {
   "cell_type": "code",
   "execution_count": null,
   "metadata": {
    "collapsed": false
   },
   "outputs": [],
   "source": [
    "print(max(test['text_a'].str.len()))"
   ]
  },
  {
   "cell_type": "code",
   "execution_count": null,
   "metadata": {
    "collapsed": false
   },
   "outputs": [],
   "source": [
    "label_list=['科技', '体育', '时政', '股票', '娱乐', '教育', '家居', '财经', '房产', '社会', '游戏', '彩票', '星座', '时尚']\r\n",
    "print(label_list)"
   ]
  },
  {
   "cell_type": "code",
   "execution_count": null,
   "metadata": {
    "collapsed": false
   },
   "outputs": [],
   "source": [
    "# 定义要进行分类的类别\r\n",
    "id_label_dict={}\r\n",
    "for i in range(0,len(label_list)):\r\n",
    "    id_label_dict[i]=label_list[i]\r\n",
    "print(id_label_dict)"
   ]
  },
  {
   "cell_type": "code",
   "execution_count": null,
   "metadata": {
    "collapsed": false
   },
   "outputs": [],
   "source": [
    "!head -n5 ~/data/data103654/test.txt"
   ]
  },
  {
   "cell_type": "markdown",
   "metadata": {
    "collapsed": false
   },
   "source": [
    "## 5.数据处理"
   ]
  },
  {
   "cell_type": "code",
   "execution_count": null,
   "metadata": {
    "collapsed": false
   },
   "outputs": [],
   "source": [
    "# 定义数据加载和处理函数\r\n",
    "def convert_example(example, tokenizer, max_seq_length=48, is_test=False):\r\n",
    "    qtconcat = example[\"text_a\"]\r\n",
    "    encoded_inputs = tokenizer(text=qtconcat, max_seq_len=max_seq_length)  # tokenizer处理为模型可接受的格式 \r\n",
    "    input_ids = encoded_inputs[\"input_ids\"]\r\n",
    "    token_type_ids = encoded_inputs[\"token_type_ids\"]\r\n",
    "\r\n",
    "    if not is_test:\r\n",
    "        label = np.array([example[\"label\"]], dtype=\"int64\")\r\n",
    "        return input_ids, token_type_ids, label\r\n",
    "    else:\r\n",
    "        return input_ids, token_type_ids\r\n",
    "\r\n",
    "# 定义模型预测函数\r\n",
    "def predict(model, data, tokenizer, label_map, batch_size=1):\r\n",
    "    examples = []\r\n",
    "    # 将输入数据（list格式）处理为模型可接受的格式\r\n",
    "    for text in data:\r\n",
    "        input_ids, segment_ids = convert_example(\r\n",
    "            text,\r\n",
    "            tokenizer,\r\n",
    "            max_seq_length=48,\r\n",
    "            is_test=True)\r\n",
    "        examples.append((input_ids, segment_ids))\r\n",
    "\r\n",
    "    batchify_fn = lambda samples, fn=Tuple(\r\n",
    "        Pad(axis=0, pad_val=tokenizer.pad_token_id),  # input id\r\n",
    "        Pad(axis=0, pad_val=tokenizer.pad_token_id),  # segment id\r\n",
    "    ): fn(samples)\r\n",
    "\r\n",
    "    # Seperates data into some batches.\r\n",
    "    batches = []\r\n",
    "    one_batch = []\r\n",
    "    for example in examples:\r\n",
    "        one_batch.append(example)\r\n",
    "        if len(one_batch) == batch_size:\r\n",
    "            batches.append(one_batch)\r\n",
    "            one_batch = []\r\n",
    "    if one_batch:\r\n",
    "        # The last batch whose size is less than the config batch_size setting.\r\n",
    "        batches.append(one_batch)\r\n",
    "\r\n",
    "    results = []\r\n",
    "    model.eval()\r\n",
    "    for batch in batches:\r\n",
    "        input_ids, segment_ids = batchify_fn(batch)\r\n",
    "        input_ids = paddle.to_tensor(input_ids)\r\n",
    "        segment_ids = paddle.to_tensor(segment_ids)\r\n",
    "        logits = model(input_ids, segment_ids)\r\n",
    "        probs = F.softmax(logits, axis=1)\r\n",
    "        idx = paddle.argmax(probs, axis=1).numpy()\r\n",
    "        idx = idx.tolist()\r\n",
    "        labels = [label_map[i] for i in idx]\r\n",
    "        results.extend(labels)\r\n",
    "    return results  # 返回预测结果"
   ]
  },
  {
   "cell_type": "code",
   "execution_count": null,
   "metadata": {
    "collapsed": false
   },
   "outputs": [],
   "source": [
    "# 定义对数据的预处理函数,处理为模型输入指定list格式\r\n",
    "def preprocess_prediction_data(data):\r\n",
    "    examples = []\r\n",
    "    for text_a in data:\r\n",
    "        examples.append({\"text_a\": text_a})\r\n",
    "    return examples\r\n",
    "\r\n",
    "# 对测试集数据进行格式处理\r\n",
    "data1 = list(test.text_a)\r\n",
    "examples = preprocess_prediction_data(data1)"
   ]
  },
  {
   "cell_type": "markdown",
   "metadata": {
    "collapsed": false
   },
   "source": [
    "## 6.开始预测"
   ]
  },
  {
   "cell_type": "code",
   "execution_count": null,
   "metadata": {
    "collapsed": false
   },
   "outputs": [],
   "source": [
    "# 对测试集进行预测\r\n",
    "results = predict(model, examples, tokenizer, id_label_dict, batch_size=128)   "
   ]
  },
  {
   "cell_type": "code",
   "execution_count": null,
   "metadata": {
    "collapsed": false
   },
   "outputs": [],
   "source": [
    "print(results)"
   ]
  },
  {
   "cell_type": "code",
   "execution_count": null,
   "metadata": {
    "collapsed": false
   },
   "outputs": [],
   "source": [
    "# 将list格式的预测结果存储为txt文件，提交格式要求：每行一个类别\r\n",
    "def write_results(labels, file_path):\r\n",
    "    with open(file_path, \"w\", encoding=\"utf8\") as f:\r\n",
    "        f.writelines(\"\\n\".join(labels))\r\n",
    "\r\n",
    "write_results(results, \"./result.txt\")"
   ]
  },
  {
   "cell_type": "code",
   "execution_count": null,
   "metadata": {
    "collapsed": false
   },
   "outputs": [],
   "source": [
    "# 因格式要求为zip，故需要将结果文件压缩为submission.zip提交文件\r\n",
    "!zip 'submission.zip' 'result.txt'"
   ]
  },
  {
   "cell_type": "code",
   "execution_count": null,
   "metadata": {
    "collapsed": false
   },
   "outputs": [],
   "source": [
    "!head result.txt"
   ]
  },
  {
   "cell_type": "markdown",
   "metadata": {
    "collapsed": false
   },
   "source": [
    "需注意此次要求提交格式为zip，在主目录下找到生成的**submission.zip**文件下载到本地并到比赛页面进行提交即可！"
   ]
  },
  {
   "cell_type": "markdown",
   "metadata": {
    "collapsed": false
   },
   "source": [
    "# 四.提升方向：\n",
    "\n",
    "1.可以针对训练数据进行数据增强从而增大训练数据量以提升模型泛化能力。[NLP Chinese Data Augmentation 一键中文数据增强工具](https://github.com/425776024/nlpcda/)\n",
    "\n",
    "2.可以在基线模型的基础上通过调参及模型优化进一步提升效果。[文本分类上分微调技巧实战](https://mp.weixin.qq.com/s/CDIeTz6ETpdQEzjdeBW93g)\n",
    "\n",
    "3.可以尝试使用不同的预训练模型如ERNIE和NEZHA等，并对多模型的结果进行投票融合。[竞赛上分Trick-结果融合](https://aistudio.baidu.com/aistudio/projectdetail/2315563)\n",
    "\n",
    "4.可以将训练和验证集进行拼接后自定义训练和验证集的划分构建差异性结果用于融合或尝试5folds交叉验证等。\n",
    "\n",
    "5.取多模型预测结果中相同的部分作为伪标签用于模型的训练。伪标签技巧一般用于模型精度较高时，初学者慎用。\n",
    "\n",
    "6.有能力的可以尝试在训练语料下重新预训练以及修改模型网络结构等进一步提升效果。\n",
    "\n",
    "7.更多的技巧可以通过学习其他类似短文本分类比赛的Top分享，多做尝试。[零基础入门NLP - 新闻文本分类](https://tianchi.aliyun.com/competition/entrance/531810/forum)\n",
    "\n",
    "关于PaddleNLP的使用：建议多看官方最新文档 [PaddleNLP文档](https://paddlenlp.readthedocs.io/zh/latest/get_started/quick_start.html)\n",
    "\n",
    "PaddleNLP的github地址：[https://github.com/PaddlePaddle/PaddleNLP](https://github.com/PaddlePaddle/PaddleNLP) 有问题的话可以在github上提issue，会有专人回答。"
   ]
  },
  {
   "cell_type": "markdown",
   "metadata": {
    "collapsed": false
   },
   "source": [
    "# 五、心得\n",
    "\n",
    "*  1.在初始阶段没必要eval，所以可设条件在1000batch以后再eval\n",
    "*  2.batch size不宜过大，数据量大，在后续epoch时显存占用会波动上去\n"
   ]
  }
 ],
 "metadata": {
  "kernelspec": {
   "display_name": "Python 3",
   "language": "python",
   "name": "py35-paddle1.2.0"
  },
  "language_info": {
   "codemirror_mode": {
    "name": "ipython",
    "version": 3
   },
   "file_extension": ".py",
   "mimetype": "text/x-python",
   "name": "python",
   "nbconvert_exporter": "python",
   "pygments_lexer": "ipython3",
   "version": "3.7.4"
  }
 },
 "nbformat": 4,
 "nbformat_minor": 1
}
